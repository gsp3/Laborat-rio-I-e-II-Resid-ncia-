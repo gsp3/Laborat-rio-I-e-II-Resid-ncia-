{
  "nbformat": 4,
  "nbformat_minor": 0,
  "metadata": {
    "colab": {
      "name": "Previsões de venda usando anúncios de redes sociais.ipynb",
      "provenance": [],
      "collapsed_sections": []
    },
    "kernelspec": {
      "name": "python3",
      "display_name": "Python 3"
    },
    "language_info": {
      "name": "python"
    }
  },
  "cells": [
    {
      "cell_type": "markdown",
      "metadata": {
        "id": "-bw6F4U8SaoN"
      },
      "source": [
        "# **Previsões de venda usando anúncios de redes sociais** \n",
        "\n",
        "## Especialização - CIn-UFPE\n",
        "### Estatistica Descritiva dos Dados\n",
        "**Alunos:** \n",
        "* Priscilla Amarante de Lima (pal4@cin.ufpe.br)\n",
        "* Glevson da Silva Pinto (gsp3@cin.ufpe.br)\n",
        "\n",
        "## **Introdução**\n",
        "As intenções de compra são informações coletadas por meio de pesquisas de intenção, nas quais produtos e serviços são medidos para avaliar a aceitação dos mesmos pelo consumidor. São informações que toda empresa deve ter e acompanhar para coletar dados e desenvolver um plano estratégico para entender possíveis necessidades ou ajustar as condições necessárias para tornar o produto atraente para os clientes.\n",
        "\n",
        "Nossa base de dados pode ser acessada no Kaggle, em https://www.kaggle.com/rakeshrau/social-network-ads contendo um conjunto de dados categóricos para determinar se um usuário comprou um produto cliando no anúcio o que chamamos de taxa de conversão de Leads(Marketing), eles são a pedra fundamental do marketing moderno. Por meio da sua aquisição, é possível utilizar ferramentas de predição e análise de métricas e calcular o nível de engajamento do potencial cliente. Isso permitirá que você entenda em que etapa ele está em seu funil de vendas. Nesse caso foi aplicado ao conjunto obtido o modelo de predição Naive Bayes com objetido de predizer quais clientes obtidos por meio da Leads irá compra o produto clicando na propaganda. \n"
      ]
    },
    {
      "cell_type": "markdown",
      "metadata": {
        "id": "FpE6hxK2VQ8w"
      },
      "source": [
        "## Contexto :\n",
        "Nesse projeto tem-se um conjunto de dados de anúncios da rede social. O conjunto de dados contém os detalhes dos usuários em um site de rede social para descobrir se um usuário compra um produto clicando no anúncio no site com base nos atributos: salário, idade e sexo."
      ]
    },
    {
      "cell_type": "markdown",
      "metadata": {
        "id": "_oW8JzzT3ma6"
      },
      "source": [
        "# Importando biblioteca"
      ]
    },
    {
      "cell_type": "code",
      "metadata": {
        "id": "JhIBkvRsRg9L"
      },
      "source": [
        "import numpy as np\n",
        "import matplotlib.pyplot as plt\n",
        "import pandas as pd\n",
        "import seaborn as sns\n",
        "from imblearn.over_sampling import SMOTE"
      ],
      "execution_count": null,
      "outputs": []
    },
    {
      "cell_type": "markdown",
      "metadata": {
        "id": "Ym5Bqm693txG"
      },
      "source": [
        "## Importando dataset"
      ]
    },
    {
      "cell_type": "code",
      "metadata": {
        "colab": {
          "base_uri": "https://localhost:8080/"
        },
        "id": "256I5Z9jLDrI",
        "outputId": "38768122-c7f6-4ca7-cf72-0dc50b3e6e7f"
      },
      "source": [
        "# Lendo drive\n",
        "from google.colab import drive\n",
        "drive.mount('/content/drive/')"
      ],
      "execution_count": null,
      "outputs": [
        {
          "output_type": "stream",
          "name": "stdout",
          "text": [
            "Drive already mounted at /content/drive/; to attempt to forcibly remount, call drive.mount(\"/content/drive/\", force_remount=True).\n"
          ]
        }
      ]
    },
    {
      "cell_type": "code",
      "metadata": {
        "id": "4jEAKCeyTfuA"
      },
      "source": [
        "dataset = pd.read_csv('/content/drive/MyDrive/Projeto disciplina estatística/Social_Network_Ads.csv')\n",
        "X = dataset.iloc[:, [1,2, 3]].values\n",
        "y = dataset.iloc[:, -1].values"
      ],
      "execution_count": null,
      "outputs": []
    },
    {
      "cell_type": "markdown",
      "metadata": {
        "id": "zI_q1vO7-tPT"
      },
      "source": [
        "Como nosso conjunto de dados contém variáveis ​​de caracteres, temos que codificá-lo usando LabelEncoder"
      ]
    },
    {
      "cell_type": "code",
      "metadata": {
        "id": "5L8G59CL-ur9",
        "colab": {
          "base_uri": "https://localhost:8080/"
        },
        "outputId": "7191e668-03f7-441f-d12f-a00d72f690f2"
      },
      "source": [
        "from sklearn.preprocessing import LabelEncoder\n",
        "le = LabelEncoder()\n",
        "X[:,0] = le.fit_transform(X[:,0])\n",
        "print(X[0])"
      ],
      "execution_count": null,
      "outputs": [
        {
          "output_type": "stream",
          "name": "stdout",
          "text": [
            "[1 19 19000]\n"
          ]
        }
      ]
    },
    {
      "cell_type": "code",
      "metadata": {
        "colab": {
          "base_uri": "https://localhost:8080/",
          "height": 359
        },
        "id": "Pj0GuEL45qHF",
        "outputId": "45ef1abe-f40c-4acb-b5b8-75d6f892d6c7"
      },
      "source": [
        "dataset.head(10)"
      ],
      "execution_count": null,
      "outputs": [
        {
          "output_type": "execute_result",
          "data": {
            "text/html": [
              "<div>\n",
              "<style scoped>\n",
              "    .dataframe tbody tr th:only-of-type {\n",
              "        vertical-align: middle;\n",
              "    }\n",
              "\n",
              "    .dataframe tbody tr th {\n",
              "        vertical-align: top;\n",
              "    }\n",
              "\n",
              "    .dataframe thead th {\n",
              "        text-align: right;\n",
              "    }\n",
              "</style>\n",
              "<table border=\"1\" class=\"dataframe\">\n",
              "  <thead>\n",
              "    <tr style=\"text-align: right;\">\n",
              "      <th></th>\n",
              "      <th>User ID</th>\n",
              "      <th>Gender</th>\n",
              "      <th>Age</th>\n",
              "      <th>EstimatedSalary</th>\n",
              "      <th>Purchased</th>\n",
              "    </tr>\n",
              "  </thead>\n",
              "  <tbody>\n",
              "    <tr>\n",
              "      <th>0</th>\n",
              "      <td>15624510</td>\n",
              "      <td>Male</td>\n",
              "      <td>19</td>\n",
              "      <td>19000</td>\n",
              "      <td>0</td>\n",
              "    </tr>\n",
              "    <tr>\n",
              "      <th>1</th>\n",
              "      <td>15810944</td>\n",
              "      <td>Male</td>\n",
              "      <td>35</td>\n",
              "      <td>20000</td>\n",
              "      <td>0</td>\n",
              "    </tr>\n",
              "    <tr>\n",
              "      <th>2</th>\n",
              "      <td>15668575</td>\n",
              "      <td>Female</td>\n",
              "      <td>26</td>\n",
              "      <td>43000</td>\n",
              "      <td>0</td>\n",
              "    </tr>\n",
              "    <tr>\n",
              "      <th>3</th>\n",
              "      <td>15603246</td>\n",
              "      <td>Female</td>\n",
              "      <td>27</td>\n",
              "      <td>57000</td>\n",
              "      <td>0</td>\n",
              "    </tr>\n",
              "    <tr>\n",
              "      <th>4</th>\n",
              "      <td>15804002</td>\n",
              "      <td>Male</td>\n",
              "      <td>19</td>\n",
              "      <td>76000</td>\n",
              "      <td>0</td>\n",
              "    </tr>\n",
              "    <tr>\n",
              "      <th>5</th>\n",
              "      <td>15728773</td>\n",
              "      <td>Male</td>\n",
              "      <td>27</td>\n",
              "      <td>58000</td>\n",
              "      <td>0</td>\n",
              "    </tr>\n",
              "    <tr>\n",
              "      <th>6</th>\n",
              "      <td>15598044</td>\n",
              "      <td>Female</td>\n",
              "      <td>27</td>\n",
              "      <td>84000</td>\n",
              "      <td>0</td>\n",
              "    </tr>\n",
              "    <tr>\n",
              "      <th>7</th>\n",
              "      <td>15694829</td>\n",
              "      <td>Female</td>\n",
              "      <td>32</td>\n",
              "      <td>150000</td>\n",
              "      <td>1</td>\n",
              "    </tr>\n",
              "    <tr>\n",
              "      <th>8</th>\n",
              "      <td>15600575</td>\n",
              "      <td>Male</td>\n",
              "      <td>25</td>\n",
              "      <td>33000</td>\n",
              "      <td>0</td>\n",
              "    </tr>\n",
              "    <tr>\n",
              "      <th>9</th>\n",
              "      <td>15727311</td>\n",
              "      <td>Female</td>\n",
              "      <td>35</td>\n",
              "      <td>65000</td>\n",
              "      <td>0</td>\n",
              "    </tr>\n",
              "  </tbody>\n",
              "</table>\n",
              "</div>"
            ],
            "text/plain": [
              "    User ID  Gender  Age  EstimatedSalary  Purchased\n",
              "0  15624510    Male   19            19000          0\n",
              "1  15810944    Male   35            20000          0\n",
              "2  15668575  Female   26            43000          0\n",
              "3  15603246  Female   27            57000          0\n",
              "4  15804002    Male   19            76000          0\n",
              "5  15728773    Male   27            58000          0\n",
              "6  15598044  Female   27            84000          0\n",
              "7  15694829  Female   32           150000          1\n",
              "8  15600575    Male   25            33000          0\n",
              "9  15727311  Female   35            65000          0"
            ]
          },
          "metadata": {},
          "execution_count": 249
        }
      ]
    },
    {
      "cell_type": "code",
      "metadata": {
        "colab": {
          "base_uri": "https://localhost:8080/"
        },
        "id": "hNefBHhL61pw",
        "outputId": "338a1a6a-9e84-435b-b1d0-e8c764331a0d"
      },
      "source": [
        "#Verificando o tamanho\n",
        "dataset.shape"
      ],
      "execution_count": null,
      "outputs": [
        {
          "output_type": "execute_result",
          "data": {
            "text/plain": [
              "(400, 5)"
            ]
          },
          "metadata": {},
          "execution_count": 250
        }
      ]
    },
    {
      "cell_type": "code",
      "metadata": {
        "id": "S_86g2DQ1KnD"
      },
      "source": [
        "# drop user id(no use)\n",
        "dataset.drop('User ID', axis = 1, inplace=True)"
      ],
      "execution_count": null,
      "outputs": []
    },
    {
      "cell_type": "markdown",
      "metadata": {
        "id": "j02JIzm_1RYn"
      },
      "source": [
        "Exclusão do atributo ID, pois não é relevante para nosso dataset."
      ]
    },
    {
      "cell_type": "code",
      "metadata": {
        "colab": {
          "base_uri": "https://localhost:8080/"
        },
        "id": "S8vJQRB75PfU",
        "outputId": "69dd528e-7266-43e4-9ee5-8ea6ba1c6518"
      },
      "source": [
        "# Verifique os valores nulos em cada recurso\n",
        "dataset.isna().sum()"
      ],
      "execution_count": null,
      "outputs": [
        {
          "output_type": "execute_result",
          "data": {
            "text/plain": [
              "Gender             0\n",
              "Age                0\n",
              "EstimatedSalary    0\n",
              "Purchased          0\n",
              "dtype: int64"
            ]
          },
          "metadata": {},
          "execution_count": 252
        }
      ]
    },
    {
      "cell_type": "code",
      "metadata": {
        "colab": {
          "base_uri": "https://localhost:8080/"
        },
        "id": "JdIAaL48nRCb",
        "outputId": "b93205d3-2f1b-47ed-b719-068ac7a22938"
      },
      "source": [
        "#Verificanto o tipo dos dados colunares\n",
        "dataset.info()"
      ],
      "execution_count": null,
      "outputs": [
        {
          "output_type": "stream",
          "name": "stdout",
          "text": [
            "<class 'pandas.core.frame.DataFrame'>\n",
            "RangeIndex: 400 entries, 0 to 399\n",
            "Data columns (total 4 columns):\n",
            " #   Column           Non-Null Count  Dtype \n",
            "---  ------           --------------  ----- \n",
            " 0   Gender           400 non-null    object\n",
            " 1   Age              400 non-null    int64 \n",
            " 2   EstimatedSalary  400 non-null    int64 \n",
            " 3   Purchased        400 non-null    int64 \n",
            "dtypes: int64(3), object(1)\n",
            "memory usage: 12.6+ KB\n"
          ]
        }
      ]
    },
    {
      "cell_type": "markdown",
      "metadata": {
        "id": "zpLrD-Kf5wNd"
      },
      "source": [
        "* 'Sexo ': valor categórico\n",
        "* 'Idade': valor inteiro\n",
        "* 'EstimatedSalary': valor inteiro\n",
        "* 'Adquirido': variável de destino\n",
        "\n"
      ]
    },
    {
      "cell_type": "markdown",
      "metadata": {
        "id": "NrTkG3wa35EL"
      },
      "source": [
        "# Dividir o conjunto de dados em conjunto de treinamento e conjunto de teste"
      ]
    },
    {
      "cell_type": "markdown",
      "metadata": {
        "id": "m82nKC7v9uJ1"
      },
      "source": [
        "Estamos realizando uma divisão de teste em nosso conjunto de dados. Estamos fornecendo o tamanho do teste como 0,20, o que significa que nossa amostra de treinamento contém 320 conjuntos de treinamento e a amostra de teste contém 80 conjuntos de teste"
      ]
    },
    {
      "cell_type": "code",
      "metadata": {
        "id": "QnuBZ4DS2ryn"
      },
      "source": [
        "from sklearn.model_selection import train_test_split\n",
        "X_train, X_test, y_train, y_test = train_test_split(X, y, test_size = 0.20, random_state = 0)"
      ],
      "execution_count": null,
      "outputs": []
    },
    {
      "cell_type": "markdown",
      "metadata": {
        "id": "Ic9jpza1OzcX"
      },
      "source": [
        "# Estatística Descritiva"
      ]
    },
    {
      "cell_type": "code",
      "metadata": {
        "colab": {
          "base_uri": "https://localhost:8080/",
          "height": 297
        },
        "id": "nrytRdJXO17L",
        "outputId": "0e9dce1d-8f8f-4b6c-b0fe-67b2930e64b7"
      },
      "source": [
        "dataset.describe()"
      ],
      "execution_count": null,
      "outputs": [
        {
          "output_type": "execute_result",
          "data": {
            "text/html": [
              "<div>\n",
              "<style scoped>\n",
              "    .dataframe tbody tr th:only-of-type {\n",
              "        vertical-align: middle;\n",
              "    }\n",
              "\n",
              "    .dataframe tbody tr th {\n",
              "        vertical-align: top;\n",
              "    }\n",
              "\n",
              "    .dataframe thead th {\n",
              "        text-align: right;\n",
              "    }\n",
              "</style>\n",
              "<table border=\"1\" class=\"dataframe\">\n",
              "  <thead>\n",
              "    <tr style=\"text-align: right;\">\n",
              "      <th></th>\n",
              "      <th>Age</th>\n",
              "      <th>EstimatedSalary</th>\n",
              "      <th>Purchased</th>\n",
              "    </tr>\n",
              "  </thead>\n",
              "  <tbody>\n",
              "    <tr>\n",
              "      <th>count</th>\n",
              "      <td>400.000000</td>\n",
              "      <td>400.000000</td>\n",
              "      <td>400.000000</td>\n",
              "    </tr>\n",
              "    <tr>\n",
              "      <th>mean</th>\n",
              "      <td>37.655000</td>\n",
              "      <td>69742.500000</td>\n",
              "      <td>0.357500</td>\n",
              "    </tr>\n",
              "    <tr>\n",
              "      <th>std</th>\n",
              "      <td>10.482877</td>\n",
              "      <td>34096.960282</td>\n",
              "      <td>0.479864</td>\n",
              "    </tr>\n",
              "    <tr>\n",
              "      <th>min</th>\n",
              "      <td>18.000000</td>\n",
              "      <td>15000.000000</td>\n",
              "      <td>0.000000</td>\n",
              "    </tr>\n",
              "    <tr>\n",
              "      <th>25%</th>\n",
              "      <td>29.750000</td>\n",
              "      <td>43000.000000</td>\n",
              "      <td>0.000000</td>\n",
              "    </tr>\n",
              "    <tr>\n",
              "      <th>50%</th>\n",
              "      <td>37.000000</td>\n",
              "      <td>70000.000000</td>\n",
              "      <td>0.000000</td>\n",
              "    </tr>\n",
              "    <tr>\n",
              "      <th>75%</th>\n",
              "      <td>46.000000</td>\n",
              "      <td>88000.000000</td>\n",
              "      <td>1.000000</td>\n",
              "    </tr>\n",
              "    <tr>\n",
              "      <th>max</th>\n",
              "      <td>60.000000</td>\n",
              "      <td>150000.000000</td>\n",
              "      <td>1.000000</td>\n",
              "    </tr>\n",
              "  </tbody>\n",
              "</table>\n",
              "</div>"
            ],
            "text/plain": [
              "              Age  EstimatedSalary   Purchased\n",
              "count  400.000000       400.000000  400.000000\n",
              "mean    37.655000     69742.500000    0.357500\n",
              "std     10.482877     34096.960282    0.479864\n",
              "min     18.000000     15000.000000    0.000000\n",
              "25%     29.750000     43000.000000    0.000000\n",
              "50%     37.000000     70000.000000    0.000000\n",
              "75%     46.000000     88000.000000    1.000000\n",
              "max     60.000000    150000.000000    1.000000"
            ]
          },
          "metadata": {},
          "execution_count": 255
        }
      ]
    },
    {
      "cell_type": "code",
      "metadata": {
        "colab": {
          "base_uri": "https://localhost:8080/",
          "height": 595
        },
        "id": "_heIkhOYzAJk",
        "outputId": "412e2fe3-fc26-4254-bc0a-6c1d01f85279"
      },
      "source": [
        "dataset.hist(figsize = (15, 8))"
      ],
      "execution_count": null,
      "outputs": [
        {
          "output_type": "execute_result",
          "data": {
            "text/plain": [
              "array([[<matplotlib.axes._subplots.AxesSubplot object at 0x7ffb6523dcd0>,\n",
              "        <matplotlib.axes._subplots.AxesSubplot object at 0x7ffb64b1da90>],\n",
              "       [<matplotlib.axes._subplots.AxesSubplot object at 0x7ffb64add150>,\n",
              "        <matplotlib.axes._subplots.AxesSubplot object at 0x7ffb64a927d0>]],\n",
              "      dtype=object)"
            ]
          },
          "metadata": {},
          "execution_count": 256
        },
        {
          "output_type": "display_data",
          "data": {
            "image/png": "[encoded data removed]",
            "text/plain": [
              "<Figure size 1080x576 with 4 Axes>"
            ]
          },
          "metadata": {}
        }
      ]
    },
    {
      "cell_type": "code",
      "metadata": {
        "colab": {
          "base_uri": "https://localhost:8080/",
          "height": 356
        },
        "id": "XIXtKgqDwuIj",
        "outputId": "e2408490-6b89-4fee-b33f-1a1cf3eb5767"
      },
      "source": [
        "sns.set(style = 'darkgrid')\n",
        "sns.countplot('Purchased', data = dataset)"
      ],
      "execution_count": null,
      "outputs": [
        {
          "output_type": "stream",
          "name": "stderr",
          "text": [
            "/usr/local/lib/python3.7/dist-packages/seaborn/_decorators.py:43: FutureWarning: Pass the following variable as a keyword arg: x. From version 0.12, the only valid positional argument will be `data`, and passing other arguments without an explicit keyword will result in an error or misinterpretation.\n",
            "  FutureWarning\n"
          ]
        },
        {
          "output_type": "execute_result",
          "data": {
            "text/plain": [
              "<matplotlib.axes._subplots.AxesSubplot at 0x7ffb64caa850>"
            ]
          },
          "metadata": {},
          "execution_count": 257
        },
        {
          "output_type": "display_data",
          "data": {
            "image/png": "[encoded data removed]",
            "text/plain": [
              "<Figure size 432x288 with 1 Axes>"
            ]
          },
          "metadata": {}
        }
      ]
    },
    {
      "cell_type": "code",
      "metadata": {
        "colab": {
          "base_uri": "https://localhost:8080/",
          "height": 356
        },
        "id": "qtPKbufFzVkN",
        "outputId": "4322e75f-f675-4a1b-bc4b-264947ae9cfa"
      },
      "source": [
        "sns.barplot('Gender', 'Age',data = dataset, hue = 'Purchased', ci = False)"
      ],
      "execution_count": null,
      "outputs": [
        {
          "output_type": "stream",
          "name": "stderr",
          "text": [
            "/usr/local/lib/python3.7/dist-packages/seaborn/_decorators.py:43: FutureWarning: Pass the following variables as keyword args: x, y. From version 0.12, the only valid positional argument will be `data`, and passing other arguments without an explicit keyword will result in an error or misinterpretation.\n",
            "  FutureWarning\n"
          ]
        },
        {
          "output_type": "execute_result",
          "data": {
            "text/plain": [
              "<matplotlib.axes._subplots.AxesSubplot at 0x7ffb648eca10>"
            ]
          },
          "metadata": {},
          "execution_count": 258
        },
        {
          "output_type": "display_data",
          "data": {
            "image/png": "[encoded data removed]",
            "text/plain": [
              "<Figure size 432x288 with 1 Axes>"
            ]
          },
          "metadata": {}
        }
      ]
    },
    {
      "cell_type": "markdown",
      "metadata": {
        "id": "0vi5Faqk14mg"
      },
      "source": [
        "##Usando o algoritmo SMOTE para balanceamento do dataset"
      ]
    },
    {
      "cell_type": "code",
      "metadata": {
        "colab": {
          "base_uri": "https://localhost:8080/",
          "height": 204
        },
        "id": "I0duAqXbLfua",
        "outputId": "e95238df-94b7-4fad-d0d1-a98b9a8d0325"
      },
      "source": [
        "# trocando o tipo do atributo categórico de Gender para numérico: masculino (1), feminino (0)\n",
        "dataset['Gender'] = dataset['Gender'].replace(['Male','Female'],[1,0])\n",
        "dataset.head()"
      ],
      "execution_count": null,
      "outputs": [
        {
          "output_type": "execute_result",
          "data": {
            "text/html": [
              "<div>\n",
              "<style scoped>\n",
              "    .dataframe tbody tr th:only-of-type {\n",
              "        vertical-align: middle;\n",
              "    }\n",
              "\n",
              "    .dataframe tbody tr th {\n",
              "        vertical-align: top;\n",
              "    }\n",
              "\n",
              "    .dataframe thead th {\n",
              "        text-align: right;\n",
              "    }\n",
              "</style>\n",
              "<table border=\"1\" class=\"dataframe\">\n",
              "  <thead>\n",
              "    <tr style=\"text-align: right;\">\n",
              "      <th></th>\n",
              "      <th>Gender</th>\n",
              "      <th>Age</th>\n",
              "      <th>EstimatedSalary</th>\n",
              "      <th>Purchased</th>\n",
              "    </tr>\n",
              "  </thead>\n",
              "  <tbody>\n",
              "    <tr>\n",
              "      <th>0</th>\n",
              "      <td>1</td>\n",
              "      <td>19</td>\n",
              "      <td>19000</td>\n",
              "      <td>0</td>\n",
              "    </tr>\n",
              "    <tr>\n",
              "      <th>1</th>\n",
              "      <td>1</td>\n",
              "      <td>35</td>\n",
              "      <td>20000</td>\n",
              "      <td>0</td>\n",
              "    </tr>\n",
              "    <tr>\n",
              "      <th>2</th>\n",
              "      <td>0</td>\n",
              "      <td>26</td>\n",
              "      <td>43000</td>\n",
              "      <td>0</td>\n",
              "    </tr>\n",
              "    <tr>\n",
              "      <th>3</th>\n",
              "      <td>0</td>\n",
              "      <td>27</td>\n",
              "      <td>57000</td>\n",
              "      <td>0</td>\n",
              "    </tr>\n",
              "    <tr>\n",
              "      <th>4</th>\n",
              "      <td>1</td>\n",
              "      <td>19</td>\n",
              "      <td>76000</td>\n",
              "      <td>0</td>\n",
              "    </tr>\n",
              "  </tbody>\n",
              "</table>\n",
              "</div>"
            ],
            "text/plain": [
              "   Gender  Age  EstimatedSalary  Purchased\n",
              "0       1   19            19000          0\n",
              "1       1   35            20000          0\n",
              "2       0   26            43000          0\n",
              "3       0   27            57000          0\n",
              "4       1   19            76000          0"
            ]
          },
          "metadata": {},
          "execution_count": 259
        }
      ]
    },
    {
      "cell_type": "code",
      "metadata": {
        "id": "QtQgAi9G11a7"
      },
      "source": [
        "# separando dados\n",
        "\n",
        "X = dataset.drop(columns=['Purchased'])\n",
        "y = dataset.Purchased\n"
      ],
      "execution_count": null,
      "outputs": []
    },
    {
      "cell_type": "code",
      "metadata": {
        "id": "yT48xv3Y269Q",
        "colab": {
          "base_uri": "https://localhost:8080/"
        },
        "outputId": "a6f68f21-f78c-4bfe-c788-1e7363a0ae1f"
      },
      "source": [
        "# balanceando dados selecionados\n",
        "X_balanceado, y_balanceado = SMOTE().fit_resample(X, y)"
      ],
      "execution_count": null,
      "outputs": [
        {
          "output_type": "stream",
          "name": "stderr",
          "text": [
            "/usr/local/lib/python3.7/dist-packages/sklearn/utils/deprecation.py:87: FutureWarning: Function safe_indexing is deprecated; safe_indexing is deprecated in version 0.22 and will be removed in version 0.24.\n",
            "  warnings.warn(msg, category=FutureWarning)\n"
          ]
        }
      ]
    },
    {
      "cell_type": "code",
      "metadata": {
        "colab": {
          "base_uri": "https://localhost:8080/",
          "height": 204
        },
        "id": "C2iiN82CMxTx",
        "outputId": "6d56c66d-9cf8-4a4a-eb8f-6e83b0e23474"
      },
      "source": [
        "# Script para juntar em um dataframe os dados que foram balanceados\n",
        "\n",
        "dataset_balanceado = []\n",
        "for i in range(len(y_balanceado)):\n",
        "  linha = list(X_balanceado[i])\n",
        "  linha.append(y_balanceado[i])\n",
        "  dataset_balanceado.append(linha)\n",
        "dataset_balanceado = pd.DataFrame(dataset_balanceado, columns=dataset.columns)\n",
        "dataset_balanceado.head()"
      ],
      "execution_count": null,
      "outputs": [
        {
          "output_type": "execute_result",
          "data": {
            "text/html": [
              "<div>\n",
              "<style scoped>\n",
              "    .dataframe tbody tr th:only-of-type {\n",
              "        vertical-align: middle;\n",
              "    }\n",
              "\n",
              "    .dataframe tbody tr th {\n",
              "        vertical-align: top;\n",
              "    }\n",
              "\n",
              "    .dataframe thead th {\n",
              "        text-align: right;\n",
              "    }\n",
              "</style>\n",
              "<table border=\"1\" class=\"dataframe\">\n",
              "  <thead>\n",
              "    <tr style=\"text-align: right;\">\n",
              "      <th></th>\n",
              "      <th>Gender</th>\n",
              "      <th>Age</th>\n",
              "      <th>EstimatedSalary</th>\n",
              "      <th>Purchased</th>\n",
              "    </tr>\n",
              "  </thead>\n",
              "  <tbody>\n",
              "    <tr>\n",
              "      <th>0</th>\n",
              "      <td>1</td>\n",
              "      <td>19</td>\n",
              "      <td>19000</td>\n",
              "      <td>0</td>\n",
              "    </tr>\n",
              "    <tr>\n",
              "      <th>1</th>\n",
              "      <td>1</td>\n",
              "      <td>35</td>\n",
              "      <td>20000</td>\n",
              "      <td>0</td>\n",
              "    </tr>\n",
              "    <tr>\n",
              "      <th>2</th>\n",
              "      <td>0</td>\n",
              "      <td>26</td>\n",
              "      <td>43000</td>\n",
              "      <td>0</td>\n",
              "    </tr>\n",
              "    <tr>\n",
              "      <th>3</th>\n",
              "      <td>0</td>\n",
              "      <td>27</td>\n",
              "      <td>57000</td>\n",
              "      <td>0</td>\n",
              "    </tr>\n",
              "    <tr>\n",
              "      <th>4</th>\n",
              "      <td>1</td>\n",
              "      <td>19</td>\n",
              "      <td>76000</td>\n",
              "      <td>0</td>\n",
              "    </tr>\n",
              "  </tbody>\n",
              "</table>\n",
              "</div>"
            ],
            "text/plain": [
              "   Gender  Age  EstimatedSalary  Purchased\n",
              "0       1   19            19000          0\n",
              "1       1   35            20000          0\n",
              "2       0   26            43000          0\n",
              "3       0   27            57000          0\n",
              "4       1   19            76000          0"
            ]
          },
          "metadata": {},
          "execution_count": 263
        }
      ]
    },
    {
      "cell_type": "code",
      "metadata": {
        "colab": {
          "base_uri": "https://localhost:8080/",
          "height": 356
        },
        "id": "VLsDp53PMWd3",
        "outputId": "cd1ad140-9d1f-45e6-eba3-d6093c60d3fc"
      },
      "source": [
        "sns.set(style = 'darkgrid')\n",
        "sns.countplot('Purchased', data = dataset_balanceado)"
      ],
      "execution_count": null,
      "outputs": [
        {
          "output_type": "stream",
          "name": "stderr",
          "text": [
            "/usr/local/lib/python3.7/dist-packages/seaborn/_decorators.py:43: FutureWarning: Pass the following variable as a keyword arg: x. From version 0.12, the only valid positional argument will be `data`, and passing other arguments without an explicit keyword will result in an error or misinterpretation.\n",
            "  FutureWarning\n"
          ]
        },
        {
          "output_type": "execute_result",
          "data": {
            "text/plain": [
              "<matplotlib.axes._subplots.AxesSubplot at 0x7ffb64870810>"
            ]
          },
          "metadata": {},
          "execution_count": 264
        },
        {
          "output_type": "display_data",
          "data": {
            "image/png": "[encoded data removed]",
            "text/plain": [
              "<Figure size 432x288 with 1 Axes>"
            ]
          },
          "metadata": {}
        }
      ]
    },
    {
      "cell_type": "markdown",
      "metadata": {
        "id": "NQZUyDDyy4gY"
      },
      "source": [
        "##Estatística descritiva com gráficos explorando melhor os atributos\n"
      ]
    },
    {
      "cell_type": "code",
      "metadata": {
        "id": "pUCf4F3BYW2s",
        "colab": {
          "base_uri": "https://localhost:8080/",
          "height": 355
        },
        "outputId": "2dbe9c01-6d1c-4d1b-d7c3-50f3353c3981"
      },
      "source": [
        "#Proporção entre compradores e não compradores\n",
        "plt.figure(figsize=(7,5))\n",
        "plt.hist(y_train)\n",
        "plt.legend()\n",
        "plt.title('Nº de compradores(1), Não compradores(0)')\n",
        "plt.show()"
      ],
      "execution_count": null,
      "outputs": [
        {
          "output_type": "stream",
          "name": "stderr",
          "text": [
            "No handles with labels found to put in legend.\n"
          ]
        },
        {
          "output_type": "display_data",
          "data": {
            "image/png": "[encoded data removed]",
            "text/plain": [
              "<Figure size 504x360 with 1 Axes>"
            ]
          },
          "metadata": {}
        }
      ]
    },
    {
      "cell_type": "code",
      "metadata": {
        "id": "XPw3_8y7AUoU",
        "colab": {
          "base_uri": "https://localhost:8080/"
        },
        "outputId": "e83bdd54-b8f0-4034-bae0-a59dfcebfa3a"
      },
      "source": [
        "#porcentagem dos compradores\n",
        "np.sum(y_train)/len(y_train)"
      ],
      "execution_count": null,
      "outputs": [
        {
          "output_type": "execute_result",
          "data": {
            "text/plain": [
              "0.378125"
            ]
          },
          "metadata": {},
          "execution_count": 267
        }
      ]
    },
    {
      "cell_type": "markdown",
      "metadata": {
        "id": "tCQOVw774GfH"
      },
      "source": [
        "#Dimensionamento de recursos"
      ]
    },
    {
      "cell_type": "code",
      "metadata": {
        "id": "wXNVlfJf3Mpr"
      },
      "source": [
        "#Escalonamento de recursos para o conjunto de treinamento e teste de variáveis ​​independentes\n",
        "from sklearn.preprocessing import StandardScaler\n",
        "sc = StandardScaler()\n",
        "X_train = sc.fit_transform(X_train)\n",
        "X_test = sc.transform(X_test)"
      ],
      "execution_count": null,
      "outputs": []
    },
    {
      "cell_type": "markdown",
      "metadata": {
        "id": "LGdomHpU4Krb"
      },
      "source": [
        "#Modelo Naive Bayes - GaussianNB"
      ]
    },
    {
      "cell_type": "markdown",
      "metadata": {
        "id": "GknT0NonH_to"
      },
      "source": [
        "De modo geral, o Naive Bayes é usado para prever a chance de um evento com base nos dados existentes. Além disso, pelo fato de ele ser ingênuo (\"ingênuo\"), ele ignora a relação entre as variáveis, pois só temos números que representam texto, e a relação entre as variáveis ​​é quase zero.\n",
        "\n",
        "Usaremos o GaussianNB - Por se tratar de dados contínuos, uma suposição típica é que os valores contínuos associados a cada classe são distribuídos de acordo com uma distribuição normal (ou gaussiana).\n",
        "\n",
        "No projeto assumimos features obedece a uma distribuição de probabilidade gaussiana."
      ]
    },
    {
      "cell_type": "code",
      "metadata": {
        "colab": {
          "base_uri": "https://localhost:8080/"
        },
        "id": "OcZw3c5L3N6J",
        "outputId": "63bea945-ce8d-4aa1-dd52-357d5ca41b21"
      },
      "source": [
        "#Treinamento do modelo Naive Bayes no conjunto de treinamento\n",
        "from sklearn.naive_bayes import GaussianNB\n",
        "classifier = GaussianNB()\n",
        "classifier.fit(X_train, y_train)"
      ],
      "execution_count": null,
      "outputs": [
        {
          "output_type": "execute_result",
          "data": {
            "text/plain": [
              "GaussianNB(priors=None, var_smoothing=1e-09)"
            ]
          },
          "metadata": {},
          "execution_count": 278
        }
      ]
    },
    {
      "cell_type": "markdown",
      "metadata": {
        "id": "723I4IR74U9b"
      },
      "source": [
        "#Resultados do conjunto de testes"
      ]
    },
    {
      "cell_type": "code",
      "metadata": {
        "id": "gog10XCx3Tjd"
      },
      "source": [
        "#Previsão dos resultados do conjunto de testes\n",
        "y_pred = classifier.predict(X_test)"
      ],
      "execution_count": null,
      "outputs": []
    },
    {
      "cell_type": "code",
      "metadata": {
        "colab": {
          "base_uri": "https://localhost:8080/"
        },
        "id": "FE53wmSI7S2M",
        "outputId": "409affef-acd6-487e-fecb-e3f339fdd06f"
      },
      "source": [
        "y_pred  "
      ],
      "execution_count": null,
      "outputs": [
        {
          "output_type": "execute_result",
          "data": {
            "text/plain": [
              "array([0, 0, 0, 0, 0, 0, 0, 1, 0, 0, 0, 0, 0, 0, 0, 1, 0, 0, 1, 0, 0, 1,\n",
              "       0, 1, 0, 1, 0, 0, 0, 0, 0, 0, 1, 0, 0, 0, 0, 0, 0, 1, 0, 0, 0, 0,\n",
              "       1, 0, 0, 1, 0, 1, 1, 0, 0, 1, 1, 0, 0, 0, 1, 0, 0, 1, 0, 0, 0, 1,\n",
              "       0, 0, 0, 0, 1, 0, 0, 0, 0, 0, 0, 0, 1, 1])"
            ]
          },
          "metadata": {},
          "execution_count": 280
        }
      ]
    },
    {
      "cell_type": "code",
      "metadata": {
        "colab": {
          "base_uri": "https://localhost:8080/"
        },
        "id": "KCpyJfVk7dLd",
        "outputId": "0594927b-8b1e-4149-e807-3de33b4cce7d"
      },
      "source": [
        "y_test"
      ],
      "execution_count": null,
      "outputs": [
        {
          "output_type": "execute_result",
          "data": {
            "text/plain": [
              "array([0, 0, 0, 0, 0, 0, 0, 1, 0, 0, 0, 0, 0, 0, 0, 0, 0, 0, 1, 0, 0, 1,\n",
              "       0, 1, 0, 1, 0, 0, 0, 0, 0, 1, 1, 0, 0, 0, 0, 0, 0, 1, 0, 0, 0, 0,\n",
              "       1, 0, 0, 1, 0, 1, 1, 0, 0, 0, 1, 1, 0, 0, 1, 0, 0, 1, 0, 1, 0, 1,\n",
              "       0, 0, 0, 0, 1, 0, 0, 1, 0, 0, 0, 0, 1, 1])"
            ]
          },
          "metadata": {},
          "execution_count": 281
        }
      ]
    },
    {
      "cell_type": "markdown",
      "metadata": {
        "id": "TiiMNkGBpu7f"
      },
      "source": [
        "Para os primeiros 8 valores, ambos são iguais. Podemos avaliar nossa matriz usando a matriz de confusão e a pontuação de precisão, comparando os valores de teste previstos e reais"
      ]
    },
    {
      "cell_type": "markdown",
      "metadata": {
        "id": "AsiM01tR4ccT"
      },
      "source": [
        "#Matriz de Confusão"
      ]
    },
    {
      "cell_type": "markdown",
      "metadata": {
        "id": "1tJu2NKGJP7r"
      },
      "source": [
        "Em análise preditiva, a matriz de confusão (às vezes também chamada de 'matriz de erro' ou 'tabela de confusão' ) é uma tabela com duas linhas e duas colunas que relata o número de falsos positivos , falsos negativos , verdadeiros positivos e verdadeiros negativos ."
      ]
    },
    {
      "cell_type": "code",
      "metadata": {
        "id": "j-RYtOJC3ZJQ"
      },
      "source": [
        "#Fazendo a matriz de confusão\n",
        "from sklearn.metrics import confusion_matrix, accuracy_score\n",
        "ac = accuracy_score(y_test,y_pred)\n",
        "cm = confusion_matrix(y_test, y_pred)"
      ],
      "execution_count": null,
      "outputs": []
    },
    {
      "cell_type": "code",
      "metadata": {
        "colab": {
          "base_uri": "https://localhost:8080/"
        },
        "id": "ozVs7ZUE7xsT",
        "outputId": "ad12765a-80a5-4750-9cc4-07ad5fc8985d"
      },
      "source": [
        "#acurácia\n",
        "print('acurácia: {}'.format(accuracy_score(y_test,y_pred)))"
      ],
      "execution_count": null,
      "outputs": [
        {
          "output_type": "stream",
          "name": "stdout",
          "text": [
            "acurácia: 0.925\n"
          ]
        }
      ]
    },
    {
      "cell_type": "code",
      "metadata": {
        "colab": {
          "base_uri": "https://localhost:8080/",
          "height": 452
        },
        "id": "uMSrmFwY8xBf",
        "outputId": "c57e88ac-2033-4026-f078-3fed8ff47545"
      },
      "source": [
        "#Matriz de confusão\n",
        "cm\n",
        "\n",
        "plt.figure(figsize = (10,7))\n",
        "plt.title('Confusion Matrix', fontsize = 20)\n",
        "\n",
        "sns.set(font_scale=1.4)\n",
        "ax = sns.heatmap(cm, cbar=False, cmap=\"Blues\", annot=True, annot_kws={\"size\": 16}, fmt='g')"
      ],
      "execution_count": null,
      "outputs": [
        {
          "output_type": "display_data",
          "data": {
            "image/png": "[encoded data removed]",
            "text/plain": [
              "<Figure size 720x504 with 1 Axes>"
            ]
          },
          "metadata": {}
        }
      ]
    },
    {
      "cell_type": "markdown",
      "metadata": {
        "id": "F-R9NhAUOrCi"
      },
      "source": [
        "# Curva ROC"
      ]
    },
    {
      "cell_type": "markdown",
      "metadata": {
        "id": "r2UbWiPwJm3V"
      },
      "source": [
        "é uma representação gráfica que ilustra o desempenho de um sistema classificador binário à medida que o seu limiar de discriminação varia."
      ]
    },
    {
      "cell_type": "code",
      "metadata": {
        "colab": {
          "base_uri": "https://localhost:8080/",
          "height": 315
        },
        "id": "imJu18jsOcJ1",
        "outputId": "8a5b41ab-2f41-45c9-98a4-e1668b91abf7"
      },
      "source": [
        "from sklearn.metrics import roc_curve \n",
        "\n",
        "# plotando curva ROC\n",
        "fpr, tpr, _ = roc_curve(y_test,y_pred)\n",
        "plt.plot(fpr,tpr,marker='.')\n",
        "plt.title('Curva ROC')\n",
        "plt.xlabel('Taxa de Falsos Positivos')\n",
        "plt.ylabel('Taxa de Verdadeiro Positivos')\n",
        "plt.show()"
      ],
      "execution_count": null,
      "outputs": [
        {
          "output_type": "display_data",
          "data": {
            "image/png": "[encoded data removed]",
            "text/plain": [
              "<Figure size 432x288 with 1 Axes>"
            ]
          },
          "metadata": {}
        }
      ]
    },
    {
      "cell_type": "markdown",
      "metadata": {
        "id": "cXMCDZ6XNdOQ"
      },
      "source": [
        "# Usando Cross Validation K = 5"
      ]
    },
    {
      "cell_type": "markdown",
      "metadata": {
        "id": "vr-sZZfdKD2d"
      },
      "source": [
        "É uma técnica amplamente utilizada para avaliar o desempenho de modelos de aprendizado de máquina. O CV envolve a divisão dos dados em vários conjuntos (partes), um dos quais é usado para treinamento e o outro é usado para testar e avaliar o desempenho do modelo. É muito provável que o uso de CV detecte se o modelo está superdimensionando os dados de treinamento, ou seja, se está superdimensionando. Há mais de uma maneira de aplicar o CV. Neste projeto, vamos utilizar o método K-fold."
      ]
    },
    {
      "cell_type": "code",
      "metadata": {
        "id": "UqKIganKMxSS"
      },
      "source": [
        "from sklearn.model_selection import cross_val_score\n",
        "pred_gnb = cross_val_score(GaussianNB(), X, y, cv=5)"
      ],
      "execution_count": null,
      "outputs": []
    },
    {
      "cell_type": "code",
      "metadata": {
        "colab": {
          "base_uri": "https://localhost:8080/"
        },
        "id": "lfHn6SNhNSBm",
        "outputId": "15b8bae3-0a12-41c5-c9bd-7f9da4b094fb"
      },
      "source": [
        "pred_gnb"
      ],
      "execution_count": null,
      "outputs": [
        {
          "output_type": "execute_result",
          "data": {
            "text/plain": [
              "array([0.8125, 0.9625, 0.925 , 0.8125, 0.9   ])"
            ]
          },
          "metadata": {},
          "execution_count": 288
        }
      ]
    },
    {
      "cell_type": "markdown",
      "metadata": {
        "id": "a2by2oWq41a2"
      },
      "source": [
        "#Correlação"
      ]
    },
    {
      "cell_type": "markdown",
      "metadata": {
        "id": "Fh3IjWVT4_42"
      },
      "source": [
        "A correlação pode ser feita entre variáveis númericas e é de extrema importência quando se quer saber qual dado influência mais em um certo resultado ou em outro dado. Assim pode-se definir de forma mais fácil e prática quais dados escolher para analisar e se chegar a uma determinada conclusão."
      ]
    },
    {
      "cell_type": "code",
      "metadata": {
        "colab": {
          "base_uri": "https://localhost:8080/",
          "height": 407
        },
        "id": "DJgI_zhT0yNJ",
        "outputId": "0b59ed63-46b0-450b-91d3-ed40a20f4a6a"
      },
      "source": [
        "sns.heatmap(dataset.corr(), annot=True)"
      ],
      "execution_count": null,
      "outputs": [
        {
          "output_type": "execute_result",
          "data": {
            "text/plain": [
              "<matplotlib.axes._subplots.AxesSubplot at 0x7ffb646bfc90>"
            ]
          },
          "metadata": {},
          "execution_count": 290
        },
        {
          "output_type": "display_data",
          "data": {
            "image/png": "[encoded data removed]",
            "text/plain": [
              "<Figure size 432x288 with 2 Axes>"
            ]
          },
          "metadata": {}
        }
      ]
    },
    {
      "cell_type": "markdown",
      "metadata": {
        "id": "I-cIvbp3DoLc"
      },
      "source": [
        "#Discretização por frequência"
      ]
    },
    {
      "cell_type": "code",
      "metadata": {
        "colab": {
          "base_uri": "https://localhost:8080/"
        },
        "id": "wGA7Nu5nC-AQ",
        "outputId": "0b2a6c2f-b6e7-4ab4-db92-d99f4c70f684"
      },
      "source": [
        "dataset['Purchased'] = pd.qcut(dataset['Age'],5)\n",
        "dataset['Purchased'].value_counts()"
      ],
      "execution_count": null,
      "outputs": [
        {
          "output_type": "execute_result",
          "data": {
            "text/plain": [
              "(17.999, 28.0]    90\n",
              "(28.0, 35.0]      88\n",
              "(47.0, 60.0]      77\n",
              "(35.0, 40.0]      75\n",
              "(40.0, 47.0]      70\n",
              "Name: Purchased, dtype: int64"
            ]
          },
          "metadata": {},
          "execution_count": 292
        }
      ]
    },
    {
      "cell_type": "code",
      "metadata": {
        "colab": {
          "base_uri": "https://localhost:8080/",
          "height": 332
        },
        "id": "qEuly9eIA-jf",
        "outputId": "d16be12e-7f72-4047-b810-71b4e3123138"
      },
      "source": [
        "counts = dataset['Purchased'].value_counts()\n",
        "counts.plot.bar(rot=0)\n",
        "plt.xlabel('Intervalo das idades')\n",
        "plt.ylabel('Compras')\n",
        "plt.title('Quantidade de compras')"
      ],
      "execution_count": null,
      "outputs": [
        {
          "output_type": "execute_result",
          "data": {
            "text/plain": [
              "Text(0.5, 1.0, 'Quantidade de compras')"
            ]
          },
          "metadata": {},
          "execution_count": 293
        },
        {
          "output_type": "display_data",
          "data": {
            "image/png": "[encoded data removed]",
            "text/plain": [
              "<Figure size 432x288 with 1 Axes>"
            ]
          },
          "metadata": {}
        }
      ]
    },
    {
      "cell_type": "markdown",
      "metadata": {
        "id": "knQV3vwtpRwb"
      },
      "source": [
        "#Visualizando Idade e Estimativa de salário"
      ]
    },
    {
      "cell_type": "code",
      "metadata": {
        "colab": {
          "base_uri": "https://localhost:8080/",
          "height": 366
        },
        "id": "QW7MxjBJok9h",
        "outputId": "15e4df92-6ef3-4911-d4d6-562d9037a803"
      },
      "source": [
        "plt.figure(figsize=(10, 5), dpi=80)\n",
        "dataset.plot.scatter(x='Age',y='EstimatedSalary')"
      ],
      "execution_count": null,
      "outputs": [
        {
          "output_type": "stream",
          "name": "stderr",
          "text": [
            "*c* argument looks like a single numeric RGB or RGBA sequence, which should be avoided as value-mapping will have precedence in case its length matches with *x* & *y*.  Please use the *color* keyword-argument or provide a 2-D array with a single row if you intend to specify the same RGB or RGBA value for all points.\n"
          ]
        },
        {
          "output_type": "execute_result",
          "data": {
            "text/plain": [
              "<matplotlib.axes._subplots.AxesSubplot at 0x7ffb6451fd90>"
            ]
          },
          "metadata": {},
          "execution_count": 294
        },
        {
          "output_type": "display_data",
          "data": {
            "text/plain": [
              "<Figure size 800x400 with 0 Axes>"
            ]
          },
          "metadata": {}
        },
        {
          "output_type": "display_data",
          "data": {
            "image/png": "[encoded data removed]",
            "text/plain": [
              "<Figure size 432x288 with 1 Axes>"
            ]
          },
          "metadata": {}
        }
      ]
    }
  ]
}